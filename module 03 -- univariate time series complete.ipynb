{
 "cells": [
  {
   "cell_type": "markdown",
   "metadata": {},
   "source": [
    "# Univariate Time Series"
   ]
  },
  {
   "cell_type": "markdown",
   "metadata": {},
   "source": [
    "<b>Definition</b> from <a href='https://onlinecourses.science.psu.edu/stat510/node/47'>here</a>: <i>a sequence of measurements of the same variable collected over time</i>. Examples: stock prices, demand, housing prices."
   ]
  },
  {
   "cell_type": "markdown",
   "metadata": {},
   "source": [
    "In pandas a univariate time series is a Series object where the index is a \"timestamp\"."
   ]
  },
  {
   "cell_type": "markdown",
   "metadata": {},
   "source": [
    "## Stock prices"
   ]
  },
  {
   "cell_type": "markdown",
   "metadata": {},
   "source": [
    "Our goal is to create a Series object <i>stock</i> with the Google stock closing price."
   ]
  },
  {
   "cell_type": "markdown",
   "metadata": {},
   "source": [
    "<b>Stock History info:</b> You can get the Google stock historical price data from https://finance.yahoo.com/quote/GOOGL/history?p=GOOGL\n",
    "In 'Historical Data' tab, set the 'Time Period' to Max, then 'Apply', then 'Download Data'. A .csv file will be downloaded into your local computer. Rename the file to **GOOGL.csv**"
   ]
  },
  {
   "cell_type": "code",
   "execution_count": 2,
   "metadata": {},
   "outputs": [],
   "source": [
    "# print all the outputs in a cell\n",
    "from IPython.core.interactiveshell import InteractiveShell\n",
    "InteractiveShell.ast_node_interactivity = \"all\""
   ]
  },
  {
   "cell_type": "markdown",
   "metadata": {},
   "source": [
    "The following code creates a Series object <i>stock</i> based on GOOGL.csv file. Index is the date and the variable is the Google stock closing prices. "
   ]
  },
  {
   "cell_type": "code",
   "execution_count": 3,
   "metadata": {},
   "outputs": [],
   "source": [
    "import pandas as pd\n",
    "import numpy as np\n",
    "data = pd.read_csv('GOOGL.csv',index_col=0, parse_dates=True)\n",
    "#or use the following two lines\n",
    "#data = pd.read_csv('GOOGL.csv',index_col=0)\n",
    "#data.index=data.index.astype(np.datetime64)"
   ]
  },
  {
   "cell_type": "code",
   "execution_count": 4,
   "metadata": {},
   "outputs": [
    {
     "data": {
      "text/html": [
       "<div>\n",
       "<style scoped>\n",
       "    .dataframe tbody tr th:only-of-type {\n",
       "        vertical-align: middle;\n",
       "    }\n",
       "\n",
       "    .dataframe tbody tr th {\n",
       "        vertical-align: top;\n",
       "    }\n",
       "\n",
       "    .dataframe thead th {\n",
       "        text-align: right;\n",
       "    }\n",
       "</style>\n",
       "<table border=\"1\" class=\"dataframe\">\n",
       "  <thead>\n",
       "    <tr style=\"text-align: right;\">\n",
       "      <th></th>\n",
       "      <th>Open</th>\n",
       "      <th>High</th>\n",
       "      <th>Low</th>\n",
       "      <th>Close</th>\n",
       "      <th>Adj Close</th>\n",
       "      <th>Volume</th>\n",
       "    </tr>\n",
       "    <tr>\n",
       "      <th>Date</th>\n",
       "      <th></th>\n",
       "      <th></th>\n",
       "      <th></th>\n",
       "      <th></th>\n",
       "      <th></th>\n",
       "      <th></th>\n",
       "    </tr>\n",
       "  </thead>\n",
       "  <tbody>\n",
       "    <tr>\n",
       "      <th>2004-08-19</th>\n",
       "      <td>50.050049</td>\n",
       "      <td>52.082081</td>\n",
       "      <td>48.028027</td>\n",
       "      <td>50.220219</td>\n",
       "      <td>50.220219</td>\n",
       "      <td>44659000</td>\n",
       "    </tr>\n",
       "    <tr>\n",
       "      <th>2004-08-20</th>\n",
       "      <td>50.555557</td>\n",
       "      <td>54.594593</td>\n",
       "      <td>50.300301</td>\n",
       "      <td>54.209209</td>\n",
       "      <td>54.209209</td>\n",
       "      <td>22834300</td>\n",
       "    </tr>\n",
       "    <tr>\n",
       "      <th>2004-08-23</th>\n",
       "      <td>55.430431</td>\n",
       "      <td>56.796795</td>\n",
       "      <td>54.579578</td>\n",
       "      <td>54.754753</td>\n",
       "      <td>54.754753</td>\n",
       "      <td>18256100</td>\n",
       "    </tr>\n",
       "    <tr>\n",
       "      <th>2004-08-24</th>\n",
       "      <td>55.675674</td>\n",
       "      <td>55.855854</td>\n",
       "      <td>51.836838</td>\n",
       "      <td>52.487488</td>\n",
       "      <td>52.487488</td>\n",
       "      <td>15247300</td>\n",
       "    </tr>\n",
       "    <tr>\n",
       "      <th>2004-08-25</th>\n",
       "      <td>52.532532</td>\n",
       "      <td>54.054054</td>\n",
       "      <td>51.991993</td>\n",
       "      <td>53.053055</td>\n",
       "      <td>53.053055</td>\n",
       "      <td>9188600</td>\n",
       "    </tr>\n",
       "  </tbody>\n",
       "</table>\n",
       "</div>"
      ],
      "text/plain": [
       "                 Open       High        Low      Close  Adj Close    Volume\n",
       "Date                                                                       \n",
       "2004-08-19  50.050049  52.082081  48.028027  50.220219  50.220219  44659000\n",
       "2004-08-20  50.555557  54.594593  50.300301  54.209209  54.209209  22834300\n",
       "2004-08-23  55.430431  56.796795  54.579578  54.754753  54.754753  18256100\n",
       "2004-08-24  55.675674  55.855854  51.836838  52.487488  52.487488  15247300\n",
       "2004-08-25  52.532532  54.054054  51.991993  53.053055  53.053055   9188600"
      ]
     },
     "execution_count": 4,
     "metadata": {},
     "output_type": "execute_result"
    }
   ],
   "source": [
    "data.head()"
   ]
  },
  {
   "cell_type": "markdown",
   "metadata": {},
   "source": [
    "### Create an univariate time series based on stock closing price"
   ]
  },
  {
   "cell_type": "code",
   "execution_count": 5,
   "metadata": {},
   "outputs": [],
   "source": [
    "stock = data['Close']"
   ]
  },
  {
   "cell_type": "code",
   "execution_count": 6,
   "metadata": {},
   "outputs": [
    {
     "data": {
      "text/plain": [
       "count    3806.000000\n",
       "mean      482.181942\n",
       "std       329.813532\n",
       "min        50.055054\n",
       "25%       236.591598\n",
       "50%       314.647156\n",
       "75%       719.267517\n",
       "max      1296.199951\n",
       "Name: Close, dtype: float64"
      ]
     },
     "execution_count": 6,
     "metadata": {},
     "output_type": "execute_result"
    }
   ],
   "source": [
    "stock.describe()"
   ]
  },
  {
   "cell_type": "code",
   "execution_count": 7,
   "metadata": {
    "scrolled": true
   },
   "outputs": [
    {
     "data": {
      "text/plain": [
       "DatetimeIndex(['2004-08-19', '2004-08-20', '2004-08-23', '2004-08-24',\n",
       "               '2004-08-25', '2004-08-26', '2004-08-27', '2004-08-30',\n",
       "               '2004-08-31', '2004-09-01',\n",
       "               ...\n",
       "               '2019-09-18', '2019-09-19', '2019-09-20', '2019-09-23',\n",
       "               '2019-09-24', '2019-09-25', '2019-09-26', '2019-09-27',\n",
       "               '2019-09-30', '2019-10-01'],\n",
       "              dtype='datetime64[ns]', name='Date', length=3806, freq=None)"
      ]
     },
     "execution_count": 7,
     "metadata": {},
     "output_type": "execute_result"
    }
   ],
   "source": [
    "stock.index"
   ]
  },
  {
   "cell_type": "code",
   "execution_count": 8,
   "metadata": {},
   "outputs": [
    {
     "data": {
      "text/plain": [
       "array([  50.220219,   54.209209,   54.754753, ..., 1225.949951,\n",
       "       1221.140015, 1206.      ])"
      ]
     },
     "execution_count": 8,
     "metadata": {},
     "output_type": "execute_result"
    }
   ],
   "source": [
    "stock.values"
   ]
  },
  {
   "cell_type": "markdown",
   "metadata": {},
   "source": [
    "The following command will plot the stock price"
   ]
  },
  {
   "cell_type": "code",
   "execution_count": 9,
   "metadata": {},
   "outputs": [
    {
     "name": "stdout",
     "output_type": "stream",
     "text": [
      "Populating the interactive namespace from numpy and matplotlib\n"
     ]
    },
    {
     "data": {
      "text/plain": [
       "<matplotlib.axes._subplots.AxesSubplot at 0x120a3f6a0>"
      ]
     },
     "execution_count": 9,
     "metadata": {},
     "output_type": "execute_result"
    },
    {
     "data": {
      "image/png": "[encoded data removed]",
      "text/plain": [
       "<Figure size 432x288 with 1 Axes>"
      ]
     },
     "metadata": {
      "needs_background": "light"
     },
     "output_type": "display_data"
    }
   ],
   "source": [
    "%pylab inline\n",
    "stock.plot()"
   ]
  },
  {
   "cell_type": "markdown",
   "metadata": {},
   "source": [
    "## Exploring a Time Series"
   ]
  },
  {
   "cell_type": "markdown",
   "metadata": {},
   "source": [
    "This Series object has one entry for each trading day. The index (of type <i>datetime64</i>) is the day and the value (of type <i>float64</i>) is the closing price."
   ]
  },
  {
   "cell_type": "markdown",
   "metadata": {},
   "source": [
    "Let's take a look at the first 10 days of data"
   ]
  },
  {
   "cell_type": "code",
   "execution_count": 10,
   "metadata": {},
   "outputs": [
    {
     "data": {
      "text/plain": [
       "Date\n",
       "2004-08-19    50.220219\n",
       "2004-08-20    54.209209\n",
       "2004-08-23    54.754753\n",
       "2004-08-24    52.487488\n",
       "2004-08-25    53.053055\n",
       "2004-08-26    54.009010\n",
       "2004-08-27    53.128128\n",
       "2004-08-30    51.056057\n",
       "2004-08-31    51.236237\n",
       "2004-09-01    50.175175\n",
       "Name: Close, dtype: float64"
      ]
     },
     "execution_count": 10,
     "metadata": {},
     "output_type": "execute_result"
    }
   ],
   "source": [
    "stock.head(10)"
   ]
  },
  {
   "cell_type": "markdown",
   "metadata": {},
   "source": [
    "Let's take a look at the last 10 days of data"
   ]
  },
  {
   "cell_type": "code",
   "execution_count": 11,
   "metadata": {},
   "outputs": [
    {
     "data": {
      "text/plain": [
       "Date\n",
       "2019-09-18    1232.650024\n",
       "2019-09-19    1238.750000\n",
       "2019-09-20    1229.839966\n",
       "2019-09-23    1234.689941\n",
       "2019-09-24    1218.329956\n",
       "2019-09-25    1245.939941\n",
       "2019-09-26    1242.290039\n",
       "2019-09-27    1225.949951\n",
       "2019-09-30    1221.140015\n",
       "2019-10-01    1206.000000\n",
       "Name: Close, dtype: float64"
      ]
     },
     "execution_count": 11,
     "metadata": {},
     "output_type": "execute_result"
    }
   ],
   "source": [
    "stock.tail(10)"
   ]
  },
  {
   "cell_type": "code",
   "execution_count": 12,
   "metadata": {},
   "outputs": [
    {
     "data": {
      "text/plain": [
       "DatetimeIndex(['2004-08-19', '2004-08-20', '2004-08-23', '2004-08-24',\n",
       "               '2004-08-25', '2004-08-26', '2004-08-27', '2004-08-30',\n",
       "               '2004-08-31', '2004-09-01'],\n",
       "              dtype='datetime64[ns]', name='Date', freq=None)"
      ]
     },
     "execution_count": 12,
     "metadata": {},
     "output_type": "execute_result"
    }
   ],
   "source": [
    "stock.index[:10]"
   ]
  },
  {
   "cell_type": "code",
   "execution_count": 13,
   "metadata": {},
   "outputs": [
    {
     "data": {
      "text/plain": [
       "3806"
      ]
     },
     "execution_count": 13,
     "metadata": {},
     "output_type": "execute_result"
    }
   ],
   "source": [
    "len(stock)"
   ]
  },
  {
   "cell_type": "markdown",
   "metadata": {},
   "source": [
    "## Questions"
   ]
  },
  {
   "cell_type": "markdown",
   "metadata": {},
   "source": [
    "Answer these questions without using for loops."
   ]
  },
  {
   "cell_type": "markdown",
   "metadata": {},
   "source": [
    "<b>Question 1</b><br/>What day had the largest stock price and what's the price? "
   ]
  },
  {
   "cell_type": "code",
   "execution_count": 14,
   "metadata": {},
   "outputs": [
    {
     "data": {
      "text/plain": [
       "Date\n",
       "2019-04-29    1296.199951\n",
       "Name: Close, dtype: float64"
      ]
     },
     "execution_count": 14,
     "metadata": {},
     "output_type": "execute_result"
    }
   ],
   "source": [
    "stock.nlargest(1)"
   ]
  },
  {
   "cell_type": "markdown",
   "metadata": {},
   "source": [
    "<b>Question 2</b><br/>What are the 10 days with largest stock price? Report both the day and the price."
   ]
  },
  {
   "cell_type": "code",
   "execution_count": 15,
   "metadata": {},
   "outputs": [
    {
     "data": {
      "text/plain": [
       "Date\n",
       "2019-04-29    1296.199951\n",
       "2018-07-26    1285.500000\n",
       "2019-04-26    1277.420044\n",
       "2018-07-25    1275.939941\n",
       "2019-04-23    1270.589966\n",
       "2019-04-25    1267.339966\n",
       "2018-08-29    1264.650024\n",
       "2018-08-09    1264.459961\n",
       "2018-08-08    1261.329956\n",
       "2019-04-24    1260.050049\n",
       "Name: Close, dtype: float64"
      ]
     },
     "execution_count": 15,
     "metadata": {},
     "output_type": "execute_result"
    }
   ],
   "source": [
    "stock.nlargest(10)"
   ]
  },
  {
   "cell_type": "markdown",
   "metadata": {},
   "source": [
    "<b>Question 3</b><br/>How much profit (ratio) would we have made if we had bought at the beginning and sold everything on the last day? Do not type in any date."
   ]
  },
  {
   "cell_type": "code",
   "execution_count": 16,
   "metadata": {},
   "outputs": [
    {
     "data": {
      "text/plain": [
       "23.014232196000577"
      ]
     },
     "execution_count": 16,
     "metadata": {},
     "output_type": "execute_result"
    }
   ],
   "source": [
    "(stock.values[-1] - stock.values[0] ) / stock.values[0]"
   ]
  },
  {
   "cell_type": "markdown",
   "metadata": {},
   "source": [
    "<b>Question 4</b><br/>\n",
    "What is the moving average of the price at each trading session? Use a 50-trading-days window. <i>Hint</i>: Explore the method <i>rolling</i>"
   ]
  },
  {
   "cell_type": "code",
   "execution_count": 17,
   "metadata": {},
   "outputs": [],
   "source": [
    "rol = stock.rolling(50)"
   ]
  },
  {
   "cell_type": "code",
   "execution_count": 18,
   "metadata": {},
   "outputs": [
    {
     "data": {
      "text/plain": [
       "pandas.core.window.Rolling"
      ]
     },
     "execution_count": 18,
     "metadata": {},
     "output_type": "execute_result"
    }
   ],
   "source": [
    "type(rol)"
   ]
  },
  {
   "cell_type": "code",
   "execution_count": 19,
   "metadata": {},
   "outputs": [
    {
     "data": {
      "text/plain": [
       "63.58698695999998"
      ]
     },
     "execution_count": 19,
     "metadata": {},
     "output_type": "execute_result"
    }
   ],
   "source": [
    "stock[:50].mean()"
   ]
  },
  {
   "cell_type": "code",
   "execution_count": 21,
   "metadata": {},
   "outputs": [
    {
     "data": {
      "text/plain": [
       "Date\n",
       "2004-08-19          NaN\n",
       "2004-08-20          NaN\n",
       "2004-08-23          NaN\n",
       "2004-08-24          NaN\n",
       "2004-08-25          NaN\n",
       "2004-08-26          NaN\n",
       "2004-08-27          NaN\n",
       "2004-08-30          NaN\n",
       "2004-08-31          NaN\n",
       "2004-09-01          NaN\n",
       "2004-09-02          NaN\n",
       "2004-09-03          NaN\n",
       "2004-09-07          NaN\n",
       "2004-09-08          NaN\n",
       "2004-09-09          NaN\n",
       "2004-09-10          NaN\n",
       "2004-09-13          NaN\n",
       "2004-09-14          NaN\n",
       "2004-09-15          NaN\n",
       "2004-09-16          NaN\n",
       "2004-09-17          NaN\n",
       "2004-09-20          NaN\n",
       "2004-09-21          NaN\n",
       "2004-09-22          NaN\n",
       "2004-09-23          NaN\n",
       "2004-09-24          NaN\n",
       "2004-09-27          NaN\n",
       "2004-09-28          NaN\n",
       "2004-09-29          NaN\n",
       "2004-09-30          NaN\n",
       "2004-10-01          NaN\n",
       "2004-10-04          NaN\n",
       "2004-10-05          NaN\n",
       "2004-10-06          NaN\n",
       "2004-10-07          NaN\n",
       "2004-10-08          NaN\n",
       "2004-10-11          NaN\n",
       "2004-10-12          NaN\n",
       "2004-10-13          NaN\n",
       "2004-10-14          NaN\n",
       "2004-10-15          NaN\n",
       "2004-10-18          NaN\n",
       "2004-10-19          NaN\n",
       "2004-10-20          NaN\n",
       "2004-10-21          NaN\n",
       "2004-10-22          NaN\n",
       "2004-10-25          NaN\n",
       "2004-10-26          NaN\n",
       "2004-10-27          NaN\n",
       "2004-10-28    63.586987\n",
       "2004-10-29    64.490891\n",
       "2004-11-01    65.368969\n",
       "2004-11-02    66.224524\n",
       "2004-11-03    67.093393\n",
       "2004-11-04    67.881181\n",
       "Name: Close, dtype: float64"
      ]
     },
     "execution_count": 21,
     "metadata": {},
     "output_type": "execute_result"
    }
   ],
   "source": [
    "rol.mean().head(55)"
   ]
  },
  {
   "cell_type": "markdown",
   "metadata": {},
   "source": [
    "Set maximum display row to 100"
   ]
  },
  {
   "cell_type": "code",
   "execution_count": 20,
   "metadata": {},
   "outputs": [],
   "source": [
    "pd.set_option('display.max_rows', 100)"
   ]
  },
  {
   "cell_type": "code",
   "execution_count": 21,
   "metadata": {},
   "outputs": [
    {
     "data": {
      "text/plain": [
       "Date\n",
       "2004-08-19            NaN\n",
       "2004-08-20            NaN\n",
       "2004-08-23            NaN\n",
       "2004-08-24            NaN\n",
       "2004-08-25            NaN\n",
       "2004-08-26            NaN\n",
       "2004-08-27            NaN\n",
       "2004-08-30            NaN\n",
       "2004-08-31            NaN\n",
       "2004-09-01            NaN\n",
       "2004-09-02            NaN\n",
       "2004-09-03            NaN\n",
       "2004-09-07            NaN\n",
       "2004-09-08            NaN\n",
       "2004-09-09            NaN\n",
       "2004-09-10            NaN\n",
       "2004-09-13            NaN\n",
       "2004-09-14            NaN\n",
       "2004-09-15            NaN\n",
       "2004-09-16            NaN\n",
       "2004-09-17            NaN\n",
       "2004-09-20            NaN\n",
       "2004-09-21            NaN\n",
       "2004-09-22            NaN\n",
       "2004-09-23            NaN\n",
       "2004-09-24            NaN\n",
       "2004-09-27            NaN\n",
       "2004-09-28            NaN\n",
       "2004-09-29            NaN\n",
       "2004-09-30            NaN\n",
       "2004-10-01            NaN\n",
       "2004-10-04            NaN\n",
       "2004-10-05            NaN\n",
       "2004-10-06            NaN\n",
       "2004-10-07            NaN\n",
       "2004-10-08            NaN\n",
       "2004-10-11            NaN\n",
       "2004-10-12            NaN\n",
       "2004-10-13            NaN\n",
       "2004-10-14            NaN\n",
       "2004-10-15            NaN\n",
       "2004-10-18            NaN\n",
       "2004-10-19            NaN\n",
       "2004-10-20            NaN\n",
       "2004-10-21            NaN\n",
       "2004-10-22            NaN\n",
       "2004-10-25            NaN\n",
       "2004-10-26            NaN\n",
       "2004-10-27            NaN\n",
       "2004-10-28      63.586987\n",
       "                 ...     \n",
       "2019-07-23    1116.574399\n",
       "2019-07-24    1116.637200\n",
       "2019-07-25    1116.858799\n",
       "2019-07-26    1118.347197\n",
       "2019-07-29    1119.493997\n",
       "2019-07-30    1120.678396\n",
       "2019-07-31    1122.149194\n",
       "2019-08-01    1123.295996\n",
       "2019-08-02    1124.105395\n",
       "2019-08-05    1124.293596\n",
       "2019-08-06    1124.942996\n",
       "2019-08-07    1125.669995\n",
       "2019-08-08    1127.394995\n",
       "2019-08-09    1128.744795\n",
       "2019-08-12    1130.104795\n",
       "2019-08-13    1133.264595\n",
       "2019-08-14    1135.459795\n",
       "2019-08-15    1137.953394\n",
       "2019-08-16    1140.582393\n",
       "2019-08-19    1143.223791\n",
       "2019-08-20    1145.239192\n",
       "2019-08-21    1147.449990\n",
       "2019-08-22    1149.698391\n",
       "2019-08-23    1150.949790\n",
       "2019-08-26    1152.647390\n",
       "2019-08-27    1154.185989\n",
       "2019-08-28    1155.556189\n",
       "2019-08-29    1157.350788\n",
       "2019-08-30    1158.897390\n",
       "2019-09-03    1159.780991\n",
       "2019-09-04    1161.092393\n",
       "2019-09-05    1163.584592\n",
       "2019-09-06    1166.104592\n",
       "2019-09-09    1168.677393\n",
       "2019-09-10    1171.135391\n",
       "2019-09-11    1173.535391\n",
       "2019-09-12    1175.982790\n",
       "2019-09-13    1178.323591\n",
       "2019-09-16    1180.302790\n",
       "2019-09-17    1182.564590\n",
       "2019-09-18    1184.731789\n",
       "2019-09-19    1186.688589\n",
       "2019-09-20    1188.403789\n",
       "2019-09-23    1190.190788\n",
       "2019-09-24    1191.547187\n",
       "2019-09-25    1193.396787\n",
       "2019-09-26    1195.307788\n",
       "2019-09-27    1196.881987\n",
       "2019-09-30    1198.673787\n",
       "2019-10-01    1200.009587\n",
       "Name: Close, Length: 3806, dtype: float64"
      ]
     },
     "execution_count": 21,
     "metadata": {},
     "output_type": "execute_result"
    }
   ],
   "source": [
    "rol.mean()"
   ]
  },
  {
   "cell_type": "markdown",
   "metadata": {},
   "source": [
    "<b>Question 5</b><br/>\n",
    "Consider this investment strategy: buy on day x and then sell after 5 days (on day x+5). Find the expected profit (in %) of this operation. <i>Hint</i>: explore the method <i>shift</i>"
   ]
  },
  {
   "cell_type": "code",
   "execution_count": 22,
   "metadata": {},
   "outputs": [
    {
     "data": {
      "text/plain": [
       "Date\n",
       "2004-08-19    50.220219\n",
       "2004-08-20    54.209209\n",
       "2004-08-23    54.754753\n",
       "2004-08-24    52.487488\n",
       "2004-08-25    53.053055\n",
       "Name: Close, dtype: float64"
      ]
     },
     "execution_count": 22,
     "metadata": {},
     "output_type": "execute_result"
    }
   ],
   "source": [
    "stock.head()"
   ]
  },
  {
   "cell_type": "code",
   "execution_count": 23,
   "metadata": {},
   "outputs": [
    {
     "data": {
      "text/plain": [
       "Date\n",
       "2004-08-19    54.209209\n",
       "2004-08-20    54.754753\n",
       "2004-08-23    52.487488\n",
       "2004-08-24    53.053055\n",
       "2004-08-25    54.009010\n",
       "Name: Close, dtype: float64"
      ]
     },
     "execution_count": 23,
     "metadata": {},
     "output_type": "execute_result"
    }
   ],
   "source": [
    "stock.shift(-1).head()"
   ]
  },
  {
   "cell_type": "code",
   "execution_count": 24,
   "metadata": {},
   "outputs": [
    {
     "data": {
      "text/plain": [
       "Date\n",
       "2004-08-19    50.220219\n",
       "2004-08-20    54.209209\n",
       "2004-08-23    54.754753\n",
       "2004-08-24    52.487488\n",
       "2004-08-25    53.053055\n",
       "2004-08-26    54.009010\n",
       "Name: Close, dtype: float64"
      ]
     },
     "execution_count": 24,
     "metadata": {},
     "output_type": "execute_result"
    }
   ],
   "source": [
    "stock.head(6)"
   ]
  },
  {
   "cell_type": "code",
   "execution_count": 25,
   "metadata": {},
   "outputs": [
    {
     "data": {
      "text/plain": [
       "Date\n",
       "2004-08-19    54.00901\n",
       "Name: Close, dtype: float64"
      ]
     },
     "execution_count": 25,
     "metadata": {},
     "output_type": "execute_result"
    }
   ],
   "source": [
    "stock.shift(-5).head(1)"
   ]
  },
  {
   "cell_type": "code",
   "execution_count": 26,
   "metadata": {},
   "outputs": [
    {
     "data": {
      "text/plain": [
       "Date\n",
       "2004-08-19    54.00901\n",
       "Name: Close, dtype: float64"
      ]
     },
     "execution_count": 26,
     "metadata": {},
     "output_type": "execute_result"
    }
   ],
   "source": [
    "stock.shift(-5)[:1]"
   ]
  },
  {
   "cell_type": "code",
   "execution_count": 27,
   "metadata": {},
   "outputs": [],
   "source": [
    "futurePrices = stock.shift(-5)"
   ]
  },
  {
   "cell_type": "code",
   "execution_count": 28,
   "metadata": {},
   "outputs": [],
   "source": [
    "profits = (futurePrices - stock) / stock"
   ]
  },
  {
   "cell_type": "code",
   "execution_count": 29,
   "metadata": {},
   "outputs": [
    {
     "data": {
      "text/plain": [
       "0.005037584846157643"
      ]
     },
     "execution_count": 29,
     "metadata": {},
     "output_type": "execute_result"
    }
   ],
   "source": [
    "profits.mean()"
   ]
  },
  {
   "cell_type": "code",
   "execution_count": 30,
   "metadata": {},
   "outputs": [
    {
     "data": {
      "text/plain": [
       "count    3801.000000\n",
       "mean        0.005038\n",
       "std         0.042562\n",
       "min        -0.178787\n",
       "25%        -0.017731\n",
       "50%         0.005674\n",
       "75%         0.026536\n",
       "max         0.323724\n",
       "Name: Close, dtype: float64"
      ]
     },
     "execution_count": 30,
     "metadata": {},
     "output_type": "execute_result"
    }
   ],
   "source": [
    "profits.describe()"
   ]
  },
  {
   "cell_type": "markdown",
   "metadata": {},
   "source": [
    "So what exactly profit average means ?  Assuming invest $100 on day 1. "
   ]
  },
  {
   "cell_type": "code",
   "execution_count": 31,
   "metadata": {},
   "outputs": [
    {
     "data": {
      "text/plain": [
       "1917.304792447599"
      ]
     },
     "execution_count": 31,
     "metadata": {},
     "output_type": "execute_result"
    }
   ],
   "source": [
    "100 * profits.mean() * len(stock)"
   ]
  },
  {
   "cell_type": "markdown",
   "metadata": {},
   "source": [
    "To be more precise .."
   ]
  },
  {
   "cell_type": "code",
   "execution_count": 32,
   "metadata": {},
   "outputs": [
    {
     "data": {
      "text/plain": [
       "1914.7860000245203"
      ]
     },
     "execution_count": 32,
     "metadata": {},
     "output_type": "execute_result"
    }
   ],
   "source": [
    "100* profits.mean() * (len(stock)-5)"
   ]
  },
  {
   "cell_type": "markdown",
   "metadata": {},
   "source": [
    "<b>Question 6</b><br/>\n",
    "Consider this investment strategy: buy whenever the price goes above the 20-day moving average, and then sell after 5 trading sessions. How much profit (in %) would we make on average?"
   ]
  },
  {
   "cell_type": "code",
   "execution_count": 33,
   "metadata": {},
   "outputs": [],
   "source": [
    "movavg = stock.rolling(20).mean()"
   ]
  },
  {
   "cell_type": "code",
   "execution_count": 34,
   "metadata": {},
   "outputs": [],
   "source": [
    "profit = (stock.shift(-5) - stock) / stock"
   ]
  },
  {
   "cell_type": "code",
   "execution_count": 35,
   "metadata": {},
   "outputs": [
    {
     "data": {
      "text/plain": [
       "0.005376684512246959"
      ]
     },
     "execution_count": 35,
     "metadata": {},
     "output_type": "execute_result"
    }
   ],
   "source": [
    "profit[stock > movavg].mean()"
   ]
  },
  {
   "cell_type": "code",
   "execution_count": 36,
   "metadata": {},
   "outputs": [
    {
     "data": {
      "text/plain": [
       "2225"
      ]
     },
     "execution_count": 36,
     "metadata": {},
     "output_type": "execute_result"
    }
   ],
   "source": [
    "len(profit[stock > movavg])"
   ]
  },
  {
   "cell_type": "markdown",
   "metadata": {},
   "source": [
    "With the same $100.00 to start with, we get the profit ..."
   ]
  },
  {
   "cell_type": "code",
   "execution_count": 37,
   "metadata": {},
   "outputs": [
    {
     "data": {
      "text/plain": [
       "1196.3123039749482"
      ]
     },
     "execution_count": 37,
     "metadata": {},
     "output_type": "execute_result"
    }
   ],
   "source": [
    "100 * profit[stock > movavg].mean() * len(profit[stock > movavg])"
   ]
  },
  {
   "cell_type": "markdown",
   "metadata": {},
   "source": [
    "## Median prices of single family homes in zip code 95050"
   ]
  },
  {
   "cell_type": "markdown",
   "metadata": {},
   "source": [
    "The file <i>santaclara_sfh.csv</i> was downloaded from <a href= 'http://redfin.com'>redfin.com</a>. For each end of month day, this file reports the median price of a single family home (sfh) in zip code 95050 over the previous 3 months. The data starts from 2012-01-31 and ends on recent month."
   ]
  },
  {
   "cell_type": "markdown",
   "metadata": {},
   "source": [
    "The following code loads and cleans the data set <i>santaclara_sfh.csv</i>, which you should copy into the same folder as this Jupyter notebook. For the moment, do not worry about understanding the code."
   ]
  },
  {
   "cell_type": "code",
   "execution_count": 38,
   "metadata": {},
   "outputs": [],
   "source": [
    "# don't worry about understanding this code\n",
    "df = pd.read_csv('santaclara_sfh.csv')\n",
    "# make the date column of type datetime\n",
    "df['date'] = pd.to_datetime(df.date)\n",
    "# make the price column of type float\n",
    "df['median_sfh_price_past_3_months'] = \\\n",
    "    df.median_sfh_price_past_3_months + 0.0 \n",
    "# make date the index \n",
    "df.set_index('date',inplace=True) \n",
    "# take the series of median prices\n",
    "housing = df['median_sfh_price_past_3_months']\n",
    "housing.name = 'housing'"
   ]
  },
  {
   "cell_type": "markdown",
   "metadata": {},
   "source": [
    "Let's take a look at the oldest prices"
   ]
  },
  {
   "cell_type": "code",
   "execution_count": 39,
   "metadata": {},
   "outputs": [
    {
     "data": {
      "text/plain": [
       "date\n",
       "2012-01-31    485000.0\n",
       "2012-02-29    528000.0\n",
       "2012-03-31    568000.0\n",
       "2012-04-30    620000.0\n",
       "2012-05-31    630000.0\n",
       "Name: housing, dtype: float64"
      ]
     },
     "execution_count": 39,
     "metadata": {},
     "output_type": "execute_result"
    }
   ],
   "source": [
    "housing.head()"
   ]
  },
  {
   "cell_type": "markdown",
   "metadata": {},
   "source": [
    "Remember that each price is the median over the previous three months. So, for example, the median sale price in the period from 2012-02-01 to 2012-04-30 was $620,000. Let's plot it."
   ]
  },
  {
   "cell_type": "code",
   "execution_count": 40,
   "metadata": {},
   "outputs": [
    {
     "data": {
      "text/plain": [
       "<matplotlib.axes._subplots.AxesSubplot at 0x12110cf60>"
      ]
     },
     "execution_count": 40,
     "metadata": {},
     "output_type": "execute_result"
    },
    {
     "data": {
      "image/png": "[encoded data removed]",
      "text/plain": [
       "<Figure size 432x288 with 1 Axes>"
      ]
     },
     "metadata": {
      "needs_background": "light"
     },
     "output_type": "display_data"
    }
   ],
   "source": [
    "housing.plot()"
   ]
  },
  {
   "cell_type": "markdown",
   "metadata": {},
   "source": [
    "## Are housing prices correlated to stock prices?"
   ]
  },
  {
   "cell_type": "markdown",
   "metadata": {},
   "source": [
    "<p>To anwer this question, we first need to align the two Series. The Series <i>housing</i> has one entry for each ending day of each month and a value that is the 3-month moving average; the series <i>stock</i> has one entry for each <b>trading day</b> and the value that is the closing price. </p>\n",
    "<p>To align the two Series, we will create a new Series of stock prices that has only one entry for every month-end-day and reports the 3-month moving median price of the stock</p>"
   ]
  },
  {
   "cell_type": "markdown",
   "metadata": {},
   "source": [
    "<p>We will do the following:\n",
    "<ol>\n",
    "<li>Pad <i>stock</i> so that there are no missing days (currently, holidays are missing)\n",
    "<li>Compute the 3-month moving median of <i>stock</i>\n",
    "<li>Retain only the end-of-month days in <i>stock</i>\n",
    "</ol>\n",
    "</p>\n"
   ]
  },
  {
   "cell_type": "markdown",
   "metadata": {},
   "source": [
    "#### Step #1: Pad stock so that there are no missing days (currently, holidays are missing)"
   ]
  },
  {
   "cell_type": "code",
   "execution_count": 41,
   "metadata": {
    "scrolled": true
   },
   "outputs": [],
   "source": [
    "padded = stock.asfreq(freq='1D', method='ffill')\n",
    "# specific frequency \n",
    "# freq = '1D' DateOffset object, or string"
   ]
  },
  {
   "cell_type": "code",
   "execution_count": 42,
   "metadata": {},
   "outputs": [
    {
     "data": {
      "text/plain": [
       "Date\n",
       "2004-08-19    50.220219\n",
       "2004-08-20    54.209209\n",
       "2004-08-23    54.754753\n",
       "2004-08-24    52.487488\n",
       "2004-08-25    53.053055\n",
       "2004-08-26    54.009010\n",
       "2004-08-27    53.128128\n",
       "2004-08-30    51.056057\n",
       "2004-08-31    51.236237\n",
       "2004-09-01    50.175175\n",
       "Name: Close, dtype: float64"
      ]
     },
     "execution_count": 42,
     "metadata": {},
     "output_type": "execute_result"
    }
   ],
   "source": [
    "stock[:10]"
   ]
  },
  {
   "cell_type": "code",
   "execution_count": 43,
   "metadata": {},
   "outputs": [
    {
     "data": {
      "text/plain": [
       "Date\n",
       "2004-08-19    50.220219\n",
       "2004-08-20    54.209209\n",
       "2004-08-21    54.209209\n",
       "2004-08-22    54.209209\n",
       "2004-08-23    54.754753\n",
       "2004-08-24    52.487488\n",
       "2004-08-25    53.053055\n",
       "2004-08-26    54.009010\n",
       "2004-08-27    53.128128\n",
       "2004-08-28    53.128128\n",
       "2004-08-29    53.128128\n",
       "2004-08-30    51.056057\n",
       "2004-08-31    51.236237\n",
       "2004-09-01    50.175175\n",
       "2004-09-02    50.805805\n",
       "2004-09-03    50.055054\n",
       "2004-09-04    50.055054\n",
       "2004-09-05    50.055054\n",
       "2004-09-06    50.055054\n",
       "2004-09-07    50.840839\n",
       "Freq: D, Name: Close, dtype: float64"
      ]
     },
     "execution_count": 43,
     "metadata": {},
     "output_type": "execute_result"
    }
   ],
   "source": [
    "padded[:20]"
   ]
  },
  {
   "cell_type": "markdown",
   "metadata": {},
   "source": [
    "#### Step #2: Compute the 90-day moving median of stock"
   ]
  },
  {
   "cell_type": "code",
   "execution_count": 44,
   "metadata": {},
   "outputs": [],
   "source": [
    "movmed = padded.rolling(90).median()"
   ]
  },
  {
   "cell_type": "code",
   "execution_count": 45,
   "metadata": {},
   "outputs": [
    {
     "data": {
      "text/plain": [
       "Date\n",
       "2004-11-07          NaN\n",
       "2004-11-08          NaN\n",
       "2004-11-09          NaN\n",
       "2004-11-10          NaN\n",
       "2004-11-11          NaN\n",
       "2004-11-12          NaN\n",
       "2004-11-13          NaN\n",
       "2004-11-14          NaN\n",
       "2004-11-15          NaN\n",
       "2004-11-16    66.356354\n",
       "2004-11-17    66.976975\n",
       "2004-11-18    67.647648\n",
       "2004-11-19    68.153156\n",
       "2004-11-20    68.688690\n",
       "2004-11-21    68.851353\n",
       "2004-11-22    68.933937\n",
       "2004-11-23    68.933937\n",
       "2004-11-24    69.094097\n",
       "2004-11-25    69.374375\n",
       "2004-11-26    69.904904\n",
       "Freq: D, Name: Close, dtype: float64"
      ]
     },
     "execution_count": 45,
     "metadata": {},
     "output_type": "execute_result"
    }
   ],
   "source": [
    "movmed[80:100]"
   ]
  },
  {
   "cell_type": "markdown",
   "metadata": {},
   "source": [
    "#### Step #3: Retain the same days as in the housing Series"
   ]
  },
  {
   "cell_type": "code",
   "execution_count": 46,
   "metadata": {},
   "outputs": [
    {
     "data": {
      "text/plain": [
       "DatetimeIndex(['2012-01-31', '2012-02-29', '2012-03-31', '2012-04-30',\n",
       "               '2012-05-31', '2012-06-30', '2012-07-31', '2012-08-31',\n",
       "               '2012-09-30', '2012-10-31'],\n",
       "              dtype='datetime64[ns]', name='date', freq=None)"
      ]
     },
     "execution_count": 46,
     "metadata": {},
     "output_type": "execute_result"
    }
   ],
   "source": [
    "housing.index[:10]"
   ]
  },
  {
   "cell_type": "code",
   "execution_count": 47,
   "metadata": {},
   "outputs": [],
   "source": [
    "mod_stock = movmed[housing.index]"
   ]
  },
  {
   "cell_type": "code",
   "execution_count": 48,
   "metadata": {},
   "outputs": [
    {
     "data": {
      "text/plain": [
       "date\n",
       "2012-01-31    310.490479\n",
       "2012-02-29    310.490479\n",
       "2012-03-31    306.856857\n",
       "2012-04-30    307.369873\n",
       "2012-05-31    306.919419\n",
       "2012-06-30    300.225219\n",
       "2012-07-31    293.290802\n",
       "2012-08-31    295.518006\n",
       "2012-09-30    335.017517\n",
       "2012-10-31    342.887878\n",
       "Name: Close, dtype: float64"
      ]
     },
     "execution_count": 48,
     "metadata": {},
     "output_type": "execute_result"
    }
   ],
   "source": [
    "mod_stock[:10]"
   ]
  },
  {
   "cell_type": "markdown",
   "metadata": {},
   "source": [
    "### Compute correlation"
   ]
  },
  {
   "cell_type": "markdown",
   "metadata": {},
   "source": [
    "Are stock and housing prices correlated?"
   ]
  },
  {
   "cell_type": "code",
   "execution_count": 49,
   "metadata": {},
   "outputs": [
    {
     "data": {
      "text/plain": [
       "0.9493796927231622"
      ]
     },
     "execution_count": 49,
     "metadata": {},
     "output_type": "execute_result"
    }
   ],
   "source": [
    "housing.corr(mod_stock)"
   ]
  },
  {
   "cell_type": "markdown",
   "metadata": {},
   "source": [
    "Uh... yes, they are strongly correlated"
   ]
  },
  {
   "cell_type": "markdown",
   "metadata": {},
   "source": [
    "Let's plot them"
   ]
  },
  {
   "cell_type": "code",
   "execution_count": 50,
   "metadata": {},
   "outputs": [
    {
     "data": {
      "text/plain": [
       "[<matplotlib.lines.Line2D at 0x121668a90>]"
      ]
     },
     "execution_count": 50,
     "metadata": {},
     "output_type": "execute_result"
    },
    {
     "data": {
      "text/plain": [
       "[<matplotlib.lines.Line2D at 0x1211a8c18>]"
      ]
     },
     "execution_count": 50,
     "metadata": {},
     "output_type": "execute_result"
    },
    {
     "data": {
      "image/png": "[encoded data removed]",
      "text/plain": [
       "<Figure size 432x288 with 1 Axes>"
      ]
     },
     "metadata": {
      "needs_background": "light"
     },
     "output_type": "display_data"
    }
   ],
   "source": [
    "import matplotlib.pyplot as plt\n",
    "\n",
    "plt.plot(mod_stock,'b')  # b for \"blue\"\n",
    "plt.plot(housing,'r') # r for \"red\" \n",
    "plt.show()"
   ]
  },
  {
   "cell_type": "markdown",
   "metadata": {},
   "source": [
    "mmm... the problem is that the two scales are very different: housing is about 1M dollars while the stock price is in the order of hundreds of dollars. "
   ]
  },
  {
   "cell_type": "markdown",
   "metadata": {},
   "source": [
    "Let's normalize them so that the value on the first day (2012-01-31) is 1 for both series."
   ]
  },
  {
   "cell_type": "code",
   "execution_count": 51,
   "metadata": {},
   "outputs": [],
   "source": [
    "norm_stock = mod_stock / mod_stock[0]"
   ]
  },
  {
   "cell_type": "code",
   "execution_count": 52,
   "metadata": {},
   "outputs": [],
   "source": [
    "norm_housing = housing / housing.iloc[0]"
   ]
  },
  {
   "cell_type": "markdown",
   "metadata": {},
   "source": [
    "Plot the normalized data again"
   ]
  },
  {
   "cell_type": "code",
   "execution_count": 53,
   "metadata": {},
   "outputs": [
    {
     "data": {
      "text/plain": [
       "[<matplotlib.lines.Line2D at 0x1216aaef0>]"
      ]
     },
     "execution_count": 53,
     "metadata": {},
     "output_type": "execute_result"
    },
    {
     "data": {
      "text/plain": [
       "[<matplotlib.lines.Line2D at 0x1216a1710>]"
      ]
     },
     "execution_count": 53,
     "metadata": {},
     "output_type": "execute_result"
    },
    {
     "data": {
      "image/png": "[encoded data removed]",
      "text/plain": [
       "<Figure size 432x288 with 1 Axes>"
      ]
     },
     "metadata": {
      "needs_background": "light"
     },
     "output_type": "display_data"
    }
   ],
   "source": [
    "plt.plot(norm_stock,'b')  # b for \"blue\"\n",
    "plt.plot(norm_housing,'r') # r for \"red\" \n",
    "plt.show()"
   ]
  },
  {
   "cell_type": "markdown",
   "metadata": {},
   "source": [
    "Assign proper legends for different lines"
   ]
  },
  {
   "cell_type": "code",
   "execution_count": 54,
   "metadata": {},
   "outputs": [
    {
     "data": {
      "text/plain": [
       "[<matplotlib.lines.Line2D at 0x1217d2cc0>]"
      ]
     },
     "execution_count": 54,
     "metadata": {},
     "output_type": "execute_result"
    },
    {
     "data": {
      "text/plain": [
       "[<matplotlib.lines.Line2D at 0x122f97b00>]"
      ]
     },
     "execution_count": 54,
     "metadata": {},
     "output_type": "execute_result"
    },
    {
     "data": {
      "text/plain": [
       "<matplotlib.legend.Legend at 0x1217e11d0>"
      ]
     },
     "execution_count": 54,
     "metadata": {},
     "output_type": "execute_result"
    },
    {
     "data": {
      "image/png": "[encoded data removed]",
      "text/plain": [
       "<Figure size 432x288 with 1 Axes>"
      ]
     },
     "metadata": {
      "needs_background": "light"
     },
     "output_type": "display_data"
    }
   ],
   "source": [
    "plt.plot(norm_stock,'b')  # b for \"blue\"\n",
    "plt.plot(norm_housing,'r') # r for \"red\" \n",
    "plt.legend(['Stock','Housing'])\n",
    "plt.show()"
   ]
  }
 ],
 "metadata": {
  "kernelspec": {
   "display_name": "Python 3",
   "language": "python",
   "name": "python3"
  },
  "language_info": {
   "codemirror_mode": {
    "name": "ipython",
    "version": 3
   },
   "file_extension": ".py",
   "mimetype": "text/x-python",
   "name": "python",
   "nbconvert_exporter": "python",
   "pygments_lexer": "ipython3",
   "version": "3.7.3"
  }
 },
 "nbformat": 4,
 "nbformat_minor": 1
}
